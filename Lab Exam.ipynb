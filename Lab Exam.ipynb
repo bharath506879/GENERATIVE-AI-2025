{
  "nbformat": 4,
  "nbformat_minor": 0,
  "metadata": {
    "colab": {
      "provenance": [],
      "authorship_tag": "ABX9TyNXVnKqsthrVZDvBp2+GBn9",
      "include_colab_link": true
    },
    "kernelspec": {
      "name": "python3",
      "display_name": "Python 3"
    },
    "language_info": {
      "name": "python"
    }
  },
  "cells": [
    {
      "cell_type": "markdown",
      "metadata": {
        "id": "view-in-github",
        "colab_type": "text"
      },
      "source": [
        "<a href=\"https://colab.research.google.com/github/Pranitha3197/Generative-AI/blob/main/Lab%20Exam.ipynb\" target=\"_parent\"><img src=\"https://colab.research.google.com/assets/colab-badge.svg\" alt=\"Open In Colab\"/></a>"
      ]
    },
    {
      "cell_type": "code",
      "execution_count": 2,
      "metadata": {
        "colab": {
          "base_uri": "https://localhost:8080/"
        },
        "id": "dWQNS7mLm4QH",
        "outputId": "b2fed282-a04c-44dc-d673-24ea3fcf6062"
      },
      "outputs": [
        {
          "output_type": "stream",
          "name": "stdout",
          "text": [
            "[[3 2]\n",
            " [2 3]]\n",
            "{0.6}\n"
          ]
        }
      ],
      "source": [
        "import numpy as np\n",
        "from sklearn.metrics import confusion_matrix, accuracy_score\n",
        "\n",
        "\n",
        "y_actual = np.array([0, 0, 0, 0, 0, 1, 1, 1, 1, 1])\n",
        "y_pred = np.array([0,0,1,1,0,1,0,1,0,1])\n",
        "\n",
        "conf_matrix = confusion_matrix(y_actual, y_pred)\n",
        "accuracy = accuracy_score(y_actual, y_pred)\n",
        "\n",
        "print( conf_matrix)\n",
        "print( {accuracy})\n"
      ]
    },
    {
      "cell_type": "code",
      "source": [
        "from scipy.optimize import linprog\n",
        "\n",
        "c = [-5, -3]\n",
        "\n",
        "A = [[1, 2], [2, 3],[1,-1]]\n",
        "b = [14,0,2]\n",
        "\n",
        "\n",
        "bounds = [(0, None)] * 2\n",
        "\n",
        "\n",
        "result = linprog(c, A_ub=A, b_ub=b, bounds=bounds, method='highs')\n",
        "\n",
        "\n",
        "print(f\"A = {result.x[0]:.2f}, B = {result.x[1]:.2f}\")\n",
        "print(f\"Max P = {-result.fun:.2f}\")"
      ],
      "metadata": {
        "colab": {
          "base_uri": "https://localhost:8080/"
        },
        "id": "6W70bIGInFYi",
        "outputId": "e9e2751c-fb69-47ef-fc48-ef271857aee4"
      },
      "execution_count": 9,
      "outputs": [
        {
          "output_type": "stream",
          "name": "stdout",
          "text": [
            "A = -0.00, B = 0.00\n",
            "Max P = -0.00\n"
          ]
        }
      ]
    },
    {
      "cell_type": "code",
      "source": [],
      "metadata": {
        "id": "abdZVN1enZrq"
      },
      "execution_count": null,
      "outputs": []
    }
  ]
}